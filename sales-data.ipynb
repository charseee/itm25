{
 "cells": [
  {
   "cell_type": "markdown",
   "id": "2fe622f3-9b5f-4dfc-9d0f-e1f37b1dc330",
   "metadata": {},
   "source": [
    "# Load files and libraries"
   ]
  },
  {
   "cell_type": "code",
   "execution_count": 168,
   "id": "f64e424a-22bb-44e4-83c1-8a55550a7def",
   "metadata": {},
   "outputs": [],
   "source": [
    "# import libraries\n",
    "import matplotlib.pyplot as plt\n",
    "import pandas as pd\n",
    "import numpy as np"
   ]
  },
  {
   "cell_type": "code",
   "execution_count": 169,
   "id": "d977ff1b-76cb-48c4-afc2-4678b4a4309d",
   "metadata": {},
   "outputs": [
    {
     "name": "stdout",
     "output_type": "stream",
     "text": [
      "      invoice_no  customer_id         category  quantity    price  \\\n",
      "0        I138884          229         Clothing         5  1500.40   \n",
      "1        I317333         3433            Shoes         3  1800.51   \n",
      "2        I127801          644         Clothing         1   300.08   \n",
      "3        I173702         4900            Shoes         5  3000.85   \n",
      "4        I337046         1089            Books         4    60.60   \n",
      "...          ...          ...              ...       ...      ...   \n",
      "99452    I219422         2344         Souvenir         5    58.65   \n",
      "99453    I325143          172  Food & Beverage         2    10.46   \n",
      "99454    I824010          425  Food & Beverage         2    10.46   \n",
      "99455    I702964          577       Technology         4  4200.00   \n",
      "99456    I232867           30         Souvenir         3    35.19   \n",
      "\n",
      "      payment_method invoice_date     shopping_mall  \n",
      "0        Credit Card     5/8/2022            Kanyon  \n",
      "1         Debit Card   12/12/2021    Forum Istanbul  \n",
      "2               Cash    9/11/2021         Metrocity  \n",
      "3        Credit Card   16/05/2021      Metropol AVM  \n",
      "4               Cash   24/10/2021            Kanyon  \n",
      "...              ...          ...               ...  \n",
      "99452    Credit Card   21/09/2022            Kanyon  \n",
      "99453           Cash   22/09/2021    Forum Istanbul  \n",
      "99454     Debit Card   28/03/2021         Metrocity  \n",
      "99455           Cash   16/03/2021      Istinye Park  \n",
      "99456    Credit Card   15/10/2022  Mall of Istanbul  \n",
      "\n",
      "[99457 rows x 8 columns]\n"
     ]
    }
   ],
   "source": [
    "df = pd.read_csv(\"fct_invoice.csv\")\n",
    "\n",
    "print(df)"
   ]
  },
  {
   "cell_type": "code",
   "execution_count": 73,
   "id": "f906152a-e54b-435e-9554-35a5dee51c0d",
   "metadata": {},
   "outputs": [
    {
     "data": {
      "text/html": [
       "<div>\n",
       "<style scoped>\n",
       "    .dataframe tbody tr th:only-of-type {\n",
       "        vertical-align: middle;\n",
       "    }\n",
       "\n",
       "    .dataframe tbody tr th {\n",
       "        vertical-align: top;\n",
       "    }\n",
       "\n",
       "    .dataframe thead th {\n",
       "        text-align: right;\n",
       "    }\n",
       "</style>\n",
       "<table border=\"1\" class=\"dataframe\">\n",
       "  <thead>\n",
       "    <tr style=\"text-align: right;\">\n",
       "      <th></th>\n",
       "      <th>age</th>\n",
       "      <th>first_name</th>\n",
       "      <th>gender</th>\n",
       "      <th>id</th>\n",
       "      <th>last_name</th>\n",
       "    </tr>\n",
       "  </thead>\n",
       "  <tbody>\n",
       "    <tr>\n",
       "      <th>0</th>\n",
       "      <td>48.0</td>\n",
       "      <td>Nicholas</td>\n",
       "      <td>M</td>\n",
       "      <td>0</td>\n",
       "      <td>Flores</td>\n",
       "    </tr>\n",
       "    <tr>\n",
       "      <th>1</th>\n",
       "      <td>NaN</td>\n",
       "      <td>Jeffery</td>\n",
       "      <td>M</td>\n",
       "      <td>1</td>\n",
       "      <td>Rowe</td>\n",
       "    </tr>\n",
       "    <tr>\n",
       "      <th>2</th>\n",
       "      <td>57.0</td>\n",
       "      <td>Alexis</td>\n",
       "      <td>F</td>\n",
       "      <td>2</td>\n",
       "      <td>Benton</td>\n",
       "    </tr>\n",
       "    <tr>\n",
       "      <th>3</th>\n",
       "      <td>73.0</td>\n",
       "      <td>Amy</td>\n",
       "      <td>F</td>\n",
       "      <td>3</td>\n",
       "      <td>Johnson</td>\n",
       "    </tr>\n",
       "    <tr>\n",
       "      <th>4</th>\n",
       "      <td>20.0</td>\n",
       "      <td>David</td>\n",
       "      <td>M</td>\n",
       "      <td>4</td>\n",
       "      <td>Moore</td>\n",
       "    </tr>\n",
       "  </tbody>\n",
       "</table>\n",
       "</div>"
      ],
      "text/plain": [
       "    age first_name gender  id last_name\n",
       "0  48.0   Nicholas      M   0    Flores\n",
       "1   NaN    Jeffery      M   1      Rowe\n",
       "2  57.0     Alexis      F   2    Benton\n",
       "3  73.0        Amy      F   3   Johnson\n",
       "4  20.0      David      M   4     Moore"
      ]
     },
     "execution_count": 73,
     "metadata": {},
     "output_type": "execute_result"
    }
   ],
   "source": [
    "json_df = pd.read_json('dim_customer.json')\n",
    "json_df.head()"
   ]
  },
  {
   "cell_type": "markdown",
   "id": "2fa5606d-d0de-447e-b949-0e82a0127121",
   "metadata": {},
   "source": [
    "# Easy Questions"
   ]
  },
  {
   "cell_type": "markdown",
   "id": "e3d04e5d-5061-472d-ad08-f884fa2f2071",
   "metadata": {},
   "source": [
    "### 1. How many unique customers are in the dataset?"
   ]
  },
  {
   "cell_type": "code",
   "execution_count": null,
   "id": "251f374a-f8d2-40d2-8ba5-cf315709f298",
   "metadata": {},
   "outputs": [
    {
     "data": {
      "text/plain": [
       "5191"
      ]
     },
     "execution_count": 42,
     "metadata": {},
     "output_type": "execute_result"
    }
   ],
   "source": [
    "df['customer_id'].nunique()"
   ]
  },
  {
   "cell_type": "markdown",
   "id": "99a67bab-3324-40a1-a178-96b5b976f1e8",
   "metadata": {},
   "source": [
    "There are 5191 unique customers"
   ]
  },
  {
   "cell_type": "markdown",
   "id": "2c6439dc-6973-45fe-8ad3-0d0e81064096",
   "metadata": {},
   "source": [
    "### 2. What are the different categories of products available? How many unique categories are there?"
   ]
  },
  {
   "cell_type": "code",
   "execution_count": 140,
   "id": "703c1d90-1936-40d0-b75e-e70e40652a0f",
   "metadata": {},
   "outputs": [
    {
     "data": {
      "text/plain": [
       "array(['Clothing', 'Shoes', 'Books', 'Cosmetics', 'Food & Beverage',\n",
       "       'Toys', 'Technology', 'Souvenir'], dtype=object)"
      ]
     },
     "execution_count": 140,
     "metadata": {},
     "output_type": "execute_result"
    }
   ],
   "source": [
    "df['category'].unique()"
   ]
  },
  {
   "cell_type": "code",
   "execution_count": 141,
   "id": "81439164-b558-46af-90f7-1977f0c7a446",
   "metadata": {},
   "outputs": [
    {
     "data": {
      "text/plain": [
       "8"
      ]
     },
     "execution_count": 141,
     "metadata": {},
     "output_type": "execute_result"
    }
   ],
   "source": [
    "df['category'].nunique()"
   ]
  },
  {
   "cell_type": "markdown",
   "id": "e41236d8-dccf-4553-9603-64b8ed5b0959",
   "metadata": {},
   "source": [
    "There are 8 categories, namely: Clothing', 'Shoes', 'Books', 'Cosmetics', 'Food & Beverage','Toys', 'Technology', 'Souvenir'"
   ]
  },
  {
   "cell_type": "markdown",
   "id": "373fd5a5-80e4-4944-9320-e265dcc5ed04",
   "metadata": {},
   "source": [
    "### 3. Which payment method is the most popular? How many times was it used?"
   ]
  },
  {
   "cell_type": "code",
   "execution_count": 143,
   "id": "96962f25-ce4a-458f-a603-f762ff67b1fa",
   "metadata": {},
   "outputs": [
    {
     "name": "stdout",
     "output_type": "stream",
     "text": [
      "Cash\n"
     ]
    }
   ],
   "source": [
    "most_popular = df['payment_method'].value_counts().idxmax() #gets the index label ('Cash')\n",
    "print(most_popular)"
   ]
  },
  {
   "cell_type": "code",
   "execution_count": 144,
   "id": "8bb94e36-8161-42ea-8794-af5334e8dda3",
   "metadata": {},
   "outputs": [
    {
     "data": {
      "text/plain": [
       "44447"
      ]
     },
     "execution_count": 144,
     "metadata": {},
     "output_type": "execute_result"
    }
   ],
   "source": [
    "df['payment_method'].value_counts().loc[most_popular] #loc is used to access indexes "
   ]
  },
  {
   "cell_type": "markdown",
   "id": "82829cdd-7883-4cdf-803c-6b5240363dca",
   "metadata": {},
   "source": [
    "The most popular payment method was Cash. It was used 44447 times."
   ]
  },
  {
   "cell_type": "markdown",
   "id": "0b6a576c-ec94-4d30-9ea7-33285d2807bd",
   "metadata": {},
   "source": [
    "# Medium Questions"
   ]
  },
  {
   "cell_type": "markdown",
   "id": "9354afe5-7c4f-4dd3-900a-a8a27a0436a0",
   "metadata": {},
   "source": [
    "### 1. What are the three most popular categories, by total sales?"
   ]
  },
  {
   "cell_type": "code",
   "execution_count": 145,
   "id": "5e3ad394-e97c-4a3f-93d6-ecf34b0b7aaf",
   "metadata": {},
   "outputs": [
    {
     "data": {
      "text/plain": [
       "category\n",
       "Clothing      1.139968e+08\n",
       "Shoes         6.655345e+07\n",
       "Technology    5.786235e+07\n",
       "Name: total_sales, dtype: float64"
      ]
     },
     "execution_count": 145,
     "metadata": {},
     "output_type": "execute_result"
    }
   ],
   "source": [
    "df['total_sales'] = df['price'] * df['quantity'] # makes a new column for sales\n",
    "df.groupby('category')['total_sales'].sum().nlargest(3) # .nlargest to get n rows in descending order"
   ]
  },
  {
   "cell_type": "markdown",
   "id": "f57fb5d5-4fef-4c44-b4e0-dd12cf63f12d",
   "metadata": {},
   "source": [
    "##### The three most popular categories by total sales are:\n",
    "1. Clothing (1.139968e+08)\n",
    "2. Shoes (6.655345e+07)\n",
    "3. Technology (5.786235e+07)"
   ]
  },
  {
   "cell_type": "markdown",
   "id": "9f317873-cb77-4dd8-b7e1-1c5d602f783f",
   "metadata": {},
   "source": [
    "### 2. What are the total sales attributed to customers over the age of 45?"
   ]
  },
  {
   "cell_type": "code",
   "execution_count": 149,
   "id": "df9e036d-62b4-4ebd-beab-c34f23688169",
   "metadata": {},
   "outputs": [
    {
     "data": {
      "text/plain": [
       "82039768.15"
      ]
     },
     "execution_count": 149,
     "metadata": {},
     "output_type": "execute_result"
    }
   ],
   "source": [
    "join_df = pd.merge(left = df, right = json_df, left_on = \"customer_id\", right_on = \"id\")\n",
    "\n",
    "join_df[join_df['age'] > 45].sum()['total_sales'] # sum up total sales column"
   ]
  },
  {
   "cell_type": "markdown",
   "id": "ea97ec38-e787-4f3f-9536-8f2be8e9157a",
   "metadata": {},
   "source": [
    "The total sales attributed to customers over the age of 45 is 82039768.15."
   ]
  },
  {
   "cell_type": "markdown",
   "id": "dfe17d4f-f2c1-490a-916f-de5424112e51",
   "metadata": {},
   "source": [
    "### 3. How is the data distributed across different invoice dates? Are there any seasonal trends or patterns? (Use a graph for this.)"
   ]
  },
  {
   "cell_type": "markdown",
   "id": "707de86e-7192-4003-bba7-ba666bb6c7a6",
   "metadata": {},
   "source": [
    "#### Monthly Sales of 2021 - 2023 (No. of Invoices)"
   ]
  },
  {
   "cell_type": "code",
   "execution_count": 161,
   "id": "5ae08a64-ef2c-44c0-ab76-d677dc59f39f",
   "metadata": {},
   "outputs": [
    {
     "data": {
      "image/png": "[encoded data removed]",
      "text/plain": [
       "<Figure size 640x480 with 1 Axes>"
      ]
     },
     "metadata": {},
     "output_type": "display_data"
    }
   ],
   "source": [
    "df['datetime'] = pd.to_datetime(df['invoice_date'], format = \"%d/%m/%Y\")\n",
    "df['month'] = df['datetime'].dt.month\n",
    "df['year'] = df['datetime'].dt.year\n",
    "\n",
    "df.groupby(['year','month']).count()\n",
    "\n",
    "for year in [2021, 2022, 2023]:\n",
    "    temp_df = df[df['year'] == year].copy()\n",
    "    y = temp_df.groupby('month').count()['total_sales']\n",
    "    x = list(range(1,13))\n",
    "    \n",
    "    if year == 2023:\n",
    "        y = y[0:2]\n",
    "        x = x[0:2]\n",
    "        \n",
    "    plt.plot(x, y, label=str(year))\n",
    "    plt.title(\"Monthly Sales of 2021-2023 (March 2023 removed due to lack of data)\")\n",
    "    plt.xlabel(\"Month\")\n",
    "    plt.ylabel(\"No. of Invoices\")\n",
    "    plt.legend()\n",
    "    \n",
    "plt.show()"
   ]
  },
  {
   "cell_type": "markdown",
   "id": "17f89fee-b2c6-453e-bbf0-693a8e3e214c",
   "metadata": {},
   "source": [
    "February had the worst sales across 2021 - 2023. For 2021, sales hit its peak on July; on the other hand, sales hit its peak on March for 2022. Through the graph, it is noticeable that sales plummet during the start of the year and start picking up from February onwards. However, sales are not consistent as there are still some declines and increase throughout the year."
   ]
  },
  {
   "cell_type": "markdown",
   "id": "f599ae33-7b56-4ad9-a1f7-bb1486148df3",
   "metadata": {},
   "source": [
    "#### Monthly Sales of 2021 - 2023 (Total Sales)"
   ]
  },
  {
   "cell_type": "code",
   "execution_count": 163,
   "id": "2d69554f-b019-407b-b2bb-1988ccd04b96",
   "metadata": {},
   "outputs": [
    {
     "name": "stderr",
     "output_type": "stream",
     "text": [
      "/var/folders/k2/569grcyn0q976qz42827_mgc0000gn/T/ipykernel_1840/1707518263.py:3: FutureWarning: The default value of numeric_only in DataFrameGroupBy.sum is deprecated. In a future version, numeric_only will default to False. Either specify numeric_only or select only columns which should be valid for the function.\n",
      "  y = temp_df.groupby('month').sum()['total_sales']\n",
      "/var/folders/k2/569grcyn0q976qz42827_mgc0000gn/T/ipykernel_1840/1707518263.py:3: FutureWarning: The default value of numeric_only in DataFrameGroupBy.sum is deprecated. In a future version, numeric_only will default to False. Either specify numeric_only or select only columns which should be valid for the function.\n",
      "  y = temp_df.groupby('month').sum()['total_sales']\n",
      "/var/folders/k2/569grcyn0q976qz42827_mgc0000gn/T/ipykernel_1840/1707518263.py:3: FutureWarning: The default value of numeric_only in DataFrameGroupBy.sum is deprecated. In a future version, numeric_only will default to False. Either specify numeric_only or select only columns which should be valid for the function.\n",
      "  y = temp_df.groupby('month').sum()['total_sales']\n"
     ]
    },
    {
     "data": {
      "image/png": "[encoded data removed]",
      "text/plain": [
       "<Figure size 640x480 with 1 Axes>"
      ]
     },
     "metadata": {},
     "output_type": "display_data"
    }
   ],
   "source": [
    "for year in [2021, 2022, 2023]:\n",
    "    temp_df = df[df['year'] == year].copy()\n",
    "    y = temp_df.groupby('month').sum()['total_sales']\n",
    "    x = list(range(1,13))\n",
    "    \n",
    "    if year == 2023:\n",
    "        y = y[0:2]\n",
    "        x = x[0:2]\n",
    "        \n",
    "    plt.plot(x, y, label=str(year))\n",
    "    plt.title(\"Monthly Sales of 2021-2023 (March 2023 removed due to lack of data)\")\n",
    "    plt.xlabel(\"Month\")\n",
    "    plt.ylabel(\"Total Sales\")\n",
    "    plt.legend()\n",
    "    \n",
    "plt.show()"
   ]
  },
  {
   "cell_type": "markdown",
   "id": "c397653a-3dc7-4c5e-80cc-d63d05d810a3",
   "metadata": {},
   "source": [
    "For both 2021 and 2022, total sales were the least during February. During 2021, sales were the highest at July while sales hit its peak at October during 2022. From the data, it shows that the highest amount of total sales are during July to October. On the other hand. total sales are the least at the start of the year, especially during January and February. Since 2023 is lacking data, it's difficult to conclude any insights aside from it having consistent and better results than January and February of the previous years."
   ]
  },
  {
   "cell_type": "markdown",
   "id": "0205328a-a5d0-4282-a69b-ff1cd956a214",
   "metadata": {},
   "source": [
    "# Hard"
   ]
  },
  {
   "cell_type": "markdown",
   "id": "1279314b-ee9f-4a90-8eea-427affea8c56",
   "metadata": {},
   "source": [
    "### 1. Create a pivot table showing the breakdown of sales across these dimensions, in this order: category, decade age range (e.g., 10-19, 20-29, and so forth)."
   ]
  },
  {
   "cell_type": "markdown",
   "id": "e123b3a3-4088-41a5-8628-b6dff4ac9f9a",
   "metadata": {},
   "source": [
    "#### Number of Sales"
   ]
  },
  {
   "cell_type": "code",
   "execution_count": 165,
   "id": "5c8a9971-35c4-4958-8973-b938dc6ea91f",
   "metadata": {},
   "outputs": [
    {
     "data": {
      "text/html": [
       "<div>\n",
       "<style scoped>\n",
       "    .dataframe tbody tr th:only-of-type {\n",
       "        vertical-align: middle;\n",
       "    }\n",
       "\n",
       "    .dataframe tbody tr th {\n",
       "        vertical-align: top;\n",
       "    }\n",
       "\n",
       "    .dataframe thead th {\n",
       "        text-align: right;\n",
       "    }\n",
       "</style>\n",
       "<table border=\"1\" class=\"dataframe\">\n",
       "  <thead>\n",
       "    <tr style=\"text-align: right;\">\n",
       "      <th>decade_range</th>\n",
       "      <th>10-19</th>\n",
       "      <th>20-29</th>\n",
       "      <th>30-39</th>\n",
       "      <th>40-49</th>\n",
       "      <th>50-59</th>\n",
       "      <th>60-69</th>\n",
       "      <th>70-79</th>\n",
       "      <th>80-89</th>\n",
       "    </tr>\n",
       "    <tr>\n",
       "      <th>category</th>\n",
       "      <th></th>\n",
       "      <th></th>\n",
       "      <th></th>\n",
       "      <th></th>\n",
       "      <th></th>\n",
       "      <th></th>\n",
       "      <th></th>\n",
       "      <th></th>\n",
       "    </tr>\n",
       "  </thead>\n",
       "  <tbody>\n",
       "    <tr>\n",
       "      <th>Books</th>\n",
       "      <td>75</td>\n",
       "      <td>475</td>\n",
       "      <td>507</td>\n",
       "      <td>510</td>\n",
       "      <td>462</td>\n",
       "      <td>466</td>\n",
       "      <td>351</td>\n",
       "      <td>174</td>\n",
       "    </tr>\n",
       "    <tr>\n",
       "      <th>Clothing</th>\n",
       "      <td>563</td>\n",
       "      <td>3168</td>\n",
       "      <td>3389</td>\n",
       "      <td>3407</td>\n",
       "      <td>3085</td>\n",
       "      <td>3250</td>\n",
       "      <td>2349</td>\n",
       "      <td>1361</td>\n",
       "    </tr>\n",
       "    <tr>\n",
       "      <th>Cosmetics</th>\n",
       "      <td>235</td>\n",
       "      <td>1355</td>\n",
       "      <td>1636</td>\n",
       "      <td>1487</td>\n",
       "      <td>1329</td>\n",
       "      <td>1441</td>\n",
       "      <td>942</td>\n",
       "      <td>596</td>\n",
       "    </tr>\n",
       "    <tr>\n",
       "      <th>Food &amp; Beverage</th>\n",
       "      <td>225</td>\n",
       "      <td>1342</td>\n",
       "      <td>1506</td>\n",
       "      <td>1567</td>\n",
       "      <td>1301</td>\n",
       "      <td>1430</td>\n",
       "      <td>951</td>\n",
       "      <td>555</td>\n",
       "    </tr>\n",
       "    <tr>\n",
       "      <th>Shoes</th>\n",
       "      <td>153</td>\n",
       "      <td>902</td>\n",
       "      <td>1022</td>\n",
       "      <td>1033</td>\n",
       "      <td>875</td>\n",
       "      <td>884</td>\n",
       "      <td>676</td>\n",
       "      <td>380</td>\n",
       "    </tr>\n",
       "    <tr>\n",
       "      <th>Souvenir</th>\n",
       "      <td>90</td>\n",
       "      <td>453</td>\n",
       "      <td>498</td>\n",
       "      <td>495</td>\n",
       "      <td>426</td>\n",
       "      <td>445</td>\n",
       "      <td>304</td>\n",
       "      <td>188</td>\n",
       "    </tr>\n",
       "    <tr>\n",
       "      <th>Technology</th>\n",
       "      <td>85</td>\n",
       "      <td>458</td>\n",
       "      <td>528</td>\n",
       "      <td>524</td>\n",
       "      <td>388</td>\n",
       "      <td>501</td>\n",
       "      <td>309</td>\n",
       "      <td>178</td>\n",
       "    </tr>\n",
       "    <tr>\n",
       "      <th>Toys</th>\n",
       "      <td>166</td>\n",
       "      <td>924</td>\n",
       "      <td>1076</td>\n",
       "      <td>1000</td>\n",
       "      <td>870</td>\n",
       "      <td>942</td>\n",
       "      <td>677</td>\n",
       "      <td>412</td>\n",
       "    </tr>\n",
       "  </tbody>\n",
       "</table>\n",
       "</div>"
      ],
      "text/plain": [
       "decade_range     10-19  20-29  30-39  40-49  50-59  60-69  70-79  80-89\n",
       "category                                                               \n",
       "Books               75    475    507    510    462    466    351    174\n",
       "Clothing           563   3168   3389   3407   3085   3250   2349   1361\n",
       "Cosmetics          235   1355   1636   1487   1329   1441    942    596\n",
       "Food & Beverage    225   1342   1506   1567   1301   1430    951    555\n",
       "Shoes              153    902   1022   1033    875    884    676    380\n",
       "Souvenir            90    453    498    495    426    445    304    188\n",
       "Technology          85    458    528    524    388    501    309    178\n",
       "Toys               166    924   1076   1000    870    942    677    412"
      ]
     },
     "execution_count": 165,
     "metadata": {},
     "output_type": "execute_result"
    }
   ],
   "source": [
    "import pandas as pd\n",
    "\n",
    "new_df = join_df[['total_sales', 'category', 'age']].copy()\n",
    "new_df = new_df.dropna() # removes the rows that contains NULL values.\n",
    "\n",
    "new_df['decade_range'] = new_df['age'].apply(lambda x: f\"{int(x // 10 * 10)}-{int(x // 10 * 10 + 9)}\" if x is not None else x)\n",
    "table = pd.pivot_table(new_df, values='total_sales', index='category', columns='decade_range', aggfunc=len, fill_value=0)\n",
    "\n",
    "# aggfunc = len counts the number of occurrences for each combination of 'category' and 'decade_range'\n",
    "\n",
    "table"
   ]
  },
  {
   "cell_type": "markdown",
   "id": "48a07f8d-e750-467d-8d46-e183454f055d",
   "metadata": {},
   "source": [
    "#### Total Sales"
   ]
  },
  {
   "cell_type": "code",
   "execution_count": 166,
   "id": "bd3b74de-6dc5-4451-a15d-fe2d2bf2f5fa",
   "metadata": {},
   "outputs": [
    {
     "data": {
      "text/html": [
       "<div>\n",
       "<style scoped>\n",
       "    .dataframe tbody tr th:only-of-type {\n",
       "        vertical-align: middle;\n",
       "    }\n",
       "\n",
       "    .dataframe tbody tr th {\n",
       "        vertical-align: top;\n",
       "    }\n",
       "\n",
       "    .dataframe thead th {\n",
       "        text-align: right;\n",
       "    }\n",
       "</style>\n",
       "<table border=\"1\" class=\"dataframe\">\n",
       "  <thead>\n",
       "    <tr style=\"text-align: right;\">\n",
       "      <th>decade_range</th>\n",
       "      <th>10-19</th>\n",
       "      <th>20-29</th>\n",
       "      <th>30-39</th>\n",
       "      <th>40-49</th>\n",
       "      <th>50-59</th>\n",
       "      <th>60-69</th>\n",
       "      <th>70-79</th>\n",
       "      <th>80-89</th>\n",
       "    </tr>\n",
       "    <tr>\n",
       "      <th>category</th>\n",
       "      <th></th>\n",
       "      <th></th>\n",
       "      <th></th>\n",
       "      <th></th>\n",
       "      <th></th>\n",
       "      <th></th>\n",
       "      <th></th>\n",
       "      <th></th>\n",
       "    </tr>\n",
       "  </thead>\n",
       "  <tbody>\n",
       "    <tr>\n",
       "      <th>Books</th>\n",
       "      <td>12801.75</td>\n",
       "      <td>79461.75</td>\n",
       "      <td>84143.10</td>\n",
       "      <td>87203.40</td>\n",
       "      <td>74962.20</td>\n",
       "      <td>80476.80</td>\n",
       "      <td>54827.85</td>\n",
       "      <td>26664.00</td>\n",
       "    </tr>\n",
       "    <tr>\n",
       "      <th>Clothing</th>\n",
       "      <td>1927413.84</td>\n",
       "      <td>10250732.80</td>\n",
       "      <td>11354126.96</td>\n",
       "      <td>11215189.92</td>\n",
       "      <td>10321851.76</td>\n",
       "      <td>10660642.08</td>\n",
       "      <td>7769371.28</td>\n",
       "      <td>4493698.00</td>\n",
       "    </tr>\n",
       "    <tr>\n",
       "      <th>Cosmetics</th>\n",
       "      <td>109619.36</td>\n",
       "      <td>605915.32</td>\n",
       "      <td>723544.70</td>\n",
       "      <td>665034.96</td>\n",
       "      <td>587780.96</td>\n",
       "      <td>649990.76</td>\n",
       "      <td>419082.62</td>\n",
       "      <td>254531.60</td>\n",
       "    </tr>\n",
       "    <tr>\n",
       "      <th>Food &amp; Beverage</th>\n",
       "      <td>13582.31</td>\n",
       "      <td>73491.96</td>\n",
       "      <td>87246.86</td>\n",
       "      <td>89553.29</td>\n",
       "      <td>72425.04</td>\n",
       "      <td>80976.09</td>\n",
       "      <td>55050.98</td>\n",
       "      <td>31332.93</td>\n",
       "    </tr>\n",
       "    <tr>\n",
       "      <th>Shoes</th>\n",
       "      <td>993281.35</td>\n",
       "      <td>5924878.24</td>\n",
       "      <td>7200839.66</td>\n",
       "      <td>7025590.02</td>\n",
       "      <td>5852857.84</td>\n",
       "      <td>5978893.54</td>\n",
       "      <td>4480269.05</td>\n",
       "      <td>2628744.60</td>\n",
       "    </tr>\n",
       "    <tr>\n",
       "      <th>Souvenir</th>\n",
       "      <td>12375.15</td>\n",
       "      <td>54943.32</td>\n",
       "      <td>64092.72</td>\n",
       "      <td>66391.80</td>\n",
       "      <td>54943.32</td>\n",
       "      <td>55025.43</td>\n",
       "      <td>38673.81</td>\n",
       "      <td>23718.06</td>\n",
       "    </tr>\n",
       "    <tr>\n",
       "      <th>Technology</th>\n",
       "      <td>1129800.00</td>\n",
       "      <td>5261550.00</td>\n",
       "      <td>6159300.00</td>\n",
       "      <td>5954550.00</td>\n",
       "      <td>4435200.00</td>\n",
       "      <td>5471550.00</td>\n",
       "      <td>3638250.00</td>\n",
       "      <td>1946700.00</td>\n",
       "    </tr>\n",
       "    <tr>\n",
       "      <th>Toys</th>\n",
       "      <td>60426.24</td>\n",
       "      <td>385100.80</td>\n",
       "      <td>420582.40</td>\n",
       "      <td>390906.88</td>\n",
       "      <td>345067.52</td>\n",
       "      <td>363955.20</td>\n",
       "      <td>273244.16</td>\n",
       "      <td>153932.80</td>\n",
       "    </tr>\n",
       "  </tbody>\n",
       "</table>\n",
       "</div>"
      ],
      "text/plain": [
       "decade_range          10-19        20-29        30-39        40-49  \\\n",
       "category                                                             \n",
       "Books              12801.75     79461.75     84143.10     87203.40   \n",
       "Clothing         1927413.84  10250732.80  11354126.96  11215189.92   \n",
       "Cosmetics         109619.36    605915.32    723544.70    665034.96   \n",
       "Food & Beverage    13582.31     73491.96     87246.86     89553.29   \n",
       "Shoes             993281.35   5924878.24   7200839.66   7025590.02   \n",
       "Souvenir           12375.15     54943.32     64092.72     66391.80   \n",
       "Technology       1129800.00   5261550.00   6159300.00   5954550.00   \n",
       "Toys               60426.24    385100.80    420582.40    390906.88   \n",
       "\n",
       "decade_range           50-59        60-69       70-79       80-89  \n",
       "category                                                           \n",
       "Books               74962.20     80476.80    54827.85    26664.00  \n",
       "Clothing         10321851.76  10660642.08  7769371.28  4493698.00  \n",
       "Cosmetics          587780.96    649990.76   419082.62   254531.60  \n",
       "Food & Beverage     72425.04     80976.09    55050.98    31332.93  \n",
       "Shoes             5852857.84   5978893.54  4480269.05  2628744.60  \n",
       "Souvenir            54943.32     55025.43    38673.81    23718.06  \n",
       "Technology        4435200.00   5471550.00  3638250.00  1946700.00  \n",
       "Toys               345067.52    363955.20   273244.16   153932.80  "
      ]
     },
     "execution_count": 166,
     "metadata": {},
     "output_type": "execute_result"
    }
   ],
   "source": [
    "new_df = join_df[['total_sales', 'category', 'age']].copy()\n",
    "new_df = new_df.dropna() # removes the rows that contains NULL values.\n",
    "\n",
    "new_df['decade_range'] = new_df['age'].apply(lambda x: f\"{int(x // 10 * 10)}-{int(x // 10 * 10 + 9)}\" if x is not None else x)\n",
    "table = pd.pivot_table(new_df, values='total_sales', index='category', columns='decade_range', aggfunc=np.sum, fill_value=0)\n",
    "\n",
    "# aggfunc = len counts the number of occurrences for each combination of 'category' and 'decade_range'\n",
    "\n",
    "table"
   ]
  }
 ],
 "metadata": {
  "kernelspec": {
   "display_name": "Python 3 (ipykernel)",
   "language": "python",
   "name": "python3"
  },
  "language_info": {
   "codemirror_mode": {
    "name": "ipython",
    "version": 3
   },
   "file_extension": ".py",
   "mimetype": "text/x-python",
   "name": "python",
   "nbconvert_exporter": "python",
   "pygments_lexer": "ipython3",
   "version": "3.10.9"
  }
 },
 "nbformat": 4,
 "nbformat_minor": 5
}
