{
 "cells": [
  {
   "cell_type": "code",
   "execution_count": 7,
   "id": "b83e7326-1726-4d51-a6c0-b8bf46a4ea3b",
   "metadata": {},
   "outputs": [
    {
     "name": "stdout",
     "output_type": "stream",
     "text": [
      "{'iss_position': {'latitude': '47.8737', 'longitude': '-14.2384'},\n",
      " 'message': 'success',\n",
      " 'timestamp': 1689216575}\n",
      "{'iss_position': {'latitude': '47.8737', 'longitude': '-14.2384'},\n",
      " 'message': 'success',\n",
      " 'timestamp': 1689216575}\n",
      "{'iss_position': {'latitude': '47.8614', 'longitude': '-14.1958'},\n",
      " 'message': 'success',\n",
      " 'timestamp': 1689216576}\n",
      "{'iss_position': {'latitude': '47.8491', 'longitude': '-14.1533'},\n",
      " 'message': 'success',\n",
      " 'timestamp': 1689216576}\n",
      "{'iss_position': {'latitude': '47.8491', 'longitude': '-14.1533'},\n",
      " 'message': 'success',\n",
      " 'timestamp': 1689216576}\n"
     ]
    }
   ],
   "source": [
    "import requests\n",
    "import pprint as pp\n",
    "import time \n",
    "\n",
    "headers = {'Accept': 'application/json'}\n",
    "\n",
    "my_list = []\n",
    "\n",
    "\n",
    "for i in range(0,5):\n",
    "    r = requests.get('http://api.open-notify.org/iss-now.json', headers=headers)\n",
    "\n",
    "    json = r.json()\n",
    "    pp.pprint(json)\n",
    "    \n",
    "    my_list.append(json)"
   ]
  },
  {
   "cell_type": "code",
   "execution_count": 8,
   "id": "22f05241-2139-48b6-9521-431d54eabf38",
   "metadata": {},
   "outputs": [],
   "source": [
    "import requests\n",
    "import pprint as pp\n",
    "import time \n",
    "\n",
    "headers = {'Accept': 'application/json'}\n",
    "\n",
    "mylist = []\n",
    "\n",
    "\n",
    "for i in range(120):\n",
    "    r = requests.get('http://api.open-notify.org/iss-now.json', headers=headers)\n",
    "    \n",
    "    time.sleep(10)\n",
    "    \n",
    "    json = r.json()\n",
    "    #pp.pprint(json)\n",
    "    \n",
    "    mylist.append(json)"
   ]
  },
  {
   "cell_type": "code",
   "execution_count": 9,
   "id": "e0ee2198-ae8d-4c78-97d1-769c667bed9b",
   "metadata": {},
   "outputs": [
    {
     "data": {
      "text/plain": [
       "[{'timestamp': 1689216579,\n",
       "  'message': 'success',\n",
       "  'iss_position': {'latitude': '47.7874', 'longitude': '-13.9408'}},\n",
       " {'timestamp': 1689216589,\n",
       "  'message': 'success',\n",
       "  'iss_position': {'latitude': '47.5362', 'longitude': '-13.0962'}}]"
      ]
     },
     "execution_count": 9,
     "metadata": {},
     "output_type": "execute_result"
    }
   ],
   "source": [
    "mylist[0:2]"
   ]
  },
  {
   "cell_type": "code",
   "execution_count": 10,
   "id": "d0248f06-4a35-47a4-ae83-33770020884e",
   "metadata": {},
   "outputs": [],
   "source": [
    "latlist = [float(mylist[i]['iss_position']['latitude']) for i in range(120)]\n",
    "longlist = [float(mylist[i]['iss_position']['longitude']) for i in range(120)]\n",
    "timestamp = [mylist[i]['timestamp'] for i in range(120)]\n"
   ]
  },
  {
   "cell_type": "code",
   "execution_count": 11,
   "id": "a8a1a3c4-aa3b-4d63-bb40-d4cdb83ae215",
   "metadata": {},
   "outputs": [
    {
     "data": {
      "text/plain": [
       "[-13.9408,\n",
       " -13.0962,\n",
       " -12.2185,\n",
       " -11.3503,\n",
       " -10.5325,\n",
       " -9.6832,\n",
       " -8.8831,\n",
       " -8.0526,\n",
       " -7.2317,\n",
       " -6.4589,\n",
       " -5.6568,\n",
       " -4.9019,\n",
       " -4.1186,\n",
       " -3.3447,\n",
       " -2.6165,\n",
       " -1.861,\n",
       " -1.1502,\n",
       " -0.4126,\n",
       " 0.2811,\n",
       " 1.0008,\n",
       " 1.7115,\n",
       " 2.38,\n",
       " 3.0736,\n",
       " 3.7262,\n",
       " 4.4031,\n",
       " 5.0716,\n",
       " 5.7006,\n",
       " 6.3532,\n",
       " 6.9672,\n",
       " 7.6042,\n",
       " 8.2037,\n",
       " 8.8257,\n",
       " 9.4404,\n",
       " 10.0191,\n",
       " 10.6195,\n",
       " 11.1847,\n",
       " 11.7714,\n",
       " 12.3513,\n",
       " 12.8973,\n",
       " 13.4644,\n",
       " 13.9985,\n",
       " 14.5531,\n",
       " 15.1016,\n",
       " 15.6185,\n",
       " 16.1553,\n",
       " 16.6614,\n",
       " 17.1872,\n",
       " 17.6828,\n",
       " 18.1981,\n",
       " 18.7081,\n",
       " 19.189,\n",
       " 19.6891,\n",
       " 20.1608,\n",
       " 20.6514,\n",
       " 21.1374,\n",
       " 21.596,\n",
       " 22.0732,\n",
       " 22.5237,\n",
       " 22.9927,\n",
       " 23.4576,\n",
       " 23.8966,\n",
       " 24.3539,\n",
       " 24.7859,\n",
       " 25.2359,\n",
       " 25.6823,\n",
       " 26.1043,\n",
       " 26.544,\n",
       " 26.9599,\n",
       " 27.3935,\n",
       " 27.824,\n",
       " 28.2313,\n",
       " 28.6561,\n",
       " 29.058,\n",
       " 29.4775,\n",
       " 29.8944,\n",
       " 30.2892,\n",
       " 30.7013,\n",
       " 31.0915,\n",
       " 31.4991,\n",
       " 31.9046,\n",
       " 32.2889,\n",
       " 32.6904,\n",
       " 33.0709,\n",
       " 33.4687,\n",
       " 33.8648,\n",
       " 34.2405,\n",
       " 34.6334,\n",
       " 35.0062,\n",
       " 35.3962,\n",
       " 35.7664,\n",
       " 36.154,\n",
       " 36.5403,\n",
       " 36.9071,\n",
       " 37.2913,\n",
       " 37.6563,\n",
       " 38.0386,\n",
       " 38.4201,\n",
       " 38.7828,\n",
       " 39.1629,\n",
       " 39.5245,\n",
       " 39.9035,\n",
       " 40.2821,\n",
       " 40.6603,\n",
       " 41.0382,\n",
       " 41.3978,\n",
       " 41.7753,\n",
       " 42.1347,\n",
       " 42.512,\n",
       " 42.8894,\n",
       " 43.2489,\n",
       " 43.6266,\n",
       " 43.9865,\n",
       " 44.3648,\n",
       " 44.7435,\n",
       " 45.1046,\n",
       " 45.4843,\n",
       " 45.8464,\n",
       " 46.2274,\n",
       " 46.6091,\n",
       " 46.9734]"
      ]
     },
     "execution_count": 11,
     "metadata": {},
     "output_type": "execute_result"
    }
   ],
   "source": [
    "longlist"
   ]
  },
  {
   "cell_type": "code",
   "execution_count": 12,
   "id": "2e54076d-fd25-454a-8a59-f7ddccc87ce8",
   "metadata": {},
   "outputs": [
    {
     "data": {
      "image/png": "[encoded data removed]",
      "text/plain": [
       "<Figure size 640x480 with 1 Axes>"
      ]
     },
     "metadata": {},
     "output_type": "display_data"
    },
    {
     "data": {
      "text/plain": [
       "47.7874"
      ]
     },
     "execution_count": 12,
     "metadata": {},
     "output_type": "execute_result"
    }
   ],
   "source": [
    "import matplotlib.pyplot as plt\n",
    "import numpy as np\n",
    "import pandas as pd\n",
    "\n",
    "\n",
    "plt.plot(latlist,longlist)\n",
    "\n",
    "plt.show()\n",
    "\n",
    "\n",
    "max(latlist)"
   ]
  },
  {
   "cell_type": "code",
   "execution_count": null,
   "id": "347c5cd6-2772-439f-878b-14653a0ec738",
   "metadata": {},
   "outputs": [],
   "source": []
  }
 ],
 "metadata": {
  "kernelspec": {
   "display_name": "Python 3 (ipykernel)",
   "language": "python",
   "name": "python3"
  },
  "language_info": {
   "codemirror_mode": {
    "name": "ipython",
    "version": 3
   },
   "file_extension": ".py",
   "mimetype": "text/x-python",
   "name": "python",
   "nbconvert_exporter": "python",
   "pygments_lexer": "ipython3",
   "version": "3.10.9"
  }
 },
 "nbformat": 4,
 "nbformat_minor": 5
}
